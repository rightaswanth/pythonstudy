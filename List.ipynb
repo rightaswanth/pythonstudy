{
 "cells": [
  {
   "cell_type": "code",
   "execution_count": 2,
   "id": "3e97cde3",
   "metadata": {},
   "outputs": [
    {
     "name": "stdout",
     "output_type": "stream",
     "text": [
      "[1, 2, 3, 4, 5, 6, 7, 8, 9, 10]\n"
     ]
    }
   ],
   "source": [
    "#  Create a list with integers from 1 to 10.\n",
    "\n",
    "list = []\n",
    "for i in range(1,11):\n",
    "  list.append(i)\n",
    "print(list)\n"
   ]
  },
  {
   "cell_type": "code",
   "execution_count": 3,
   "id": "02c86f35",
   "metadata": {},
   "outputs": [
    {
     "name": "stdout",
     "output_type": "stream",
     "text": [
      "Length of list:  4\n"
     ]
    }
   ],
   "source": [
    "#  Find the length of a list without using the `len()` function.\n",
    "\n",
    "\n",
    "list = [\"apple\", \"grapes\",\"mango\",\"banana\"]\n",
    "count = 0\n",
    "for i in list:\n",
    "  count+=1\n",
    "print(\"Length of list: \",count)\n"
   ]
  },
  {
   "cell_type": "code",
   "execution_count": 10,
   "id": "b72c15d9",
   "metadata": {},
   "outputs": [
    {
     "name": "stdout",
     "output_type": "stream",
     "text": [
      "list:  ['apple', 'grapes', 'mango', 'pappaya']\n",
      "List after appending:  ['apple', 'grapes', 'mango', 'pappaya', 'jerry']\n"
     ]
    }
   ],
   "source": [
    "#  Append an element to the end of a list.\n",
    "list = [\"apple\", \"grapes\",\"mango\",\"pappaya\"]\n",
    "print(\"list: \", list)\n",
    "list.append(\"jerry\")\n",
    "print(\"List after appending: \",list)"
   ]
  },
  {
   "cell_type": "code",
   "execution_count": 11,
   "id": "b40bf2a1",
   "metadata": {},
   "outputs": [
    {
     "name": "stdout",
     "output_type": "stream",
     "text": [
      "list:  ['apple', 'grapes', 'mango', 'banana']\n",
      "List after appending:  ['apple', 'grapes', 'pineapple', 'mango', 'banana']\n"
     ]
    }
   ],
   "source": [
    "# Insert an element at a specific index in a list.\n",
    "\n",
    "list = [\"apple\", \"grapes\",\"mango\",\"banana\"]\n",
    "print(\"list: \", list)\n",
    "list.insert(2,\"pineapple\")\n",
    "print(\"List after appending: \",list)"
   ]
  },
  {
   "cell_type": "code",
   "execution_count": 12,
   "id": "efc74e63",
   "metadata": {},
   "outputs": [
    {
     "name": "stdout",
     "output_type": "stream",
     "text": [
      "list:  ['apple', 'grapes', 'mango', 'banana']\n",
      "List after appending:  ['apple', 'mango', 'banana']\n"
     ]
    }
   ],
   "source": [
    "# Remove an element from a list by its value.\n",
    "\n",
    "list = [\"apple\", \"grapes\",\"mango\",\"banana\"]\n",
    "print(\"list: \", list)\n",
    "list.remove(\"grapes\")\n",
    "print(\"List after appending: \",list)"
   ]
  },
  {
   "cell_type": "code",
   "execution_count": 13,
   "id": "dd2c6936",
   "metadata": {},
   "outputs": [
    {
     "name": "stdout",
     "output_type": "stream",
     "text": [
      "list:  ['apple', 'grapes', 'mango', 'banana']\n",
      "List after appending:  ['apple', 'grapes', 'banana']\n"
     ]
    }
   ],
   "source": [
    "# Remove an element from a list by its index.\n",
    "\n",
    "list = [\"apple\", \"grapes\",\"mango\",\"banana\"]\n",
    "print(\"list: \", list)\n",
    "list.pop(2)\n",
    "print(\"List after appending: \",list)"
   ]
  },
  {
   "cell_type": "code",
   "execution_count": 14,
   "id": "9942bca1",
   "metadata": {},
   "outputs": [
    {
     "name": "stdout",
     "output_type": "stream",
     "text": [
      "Enter the element to search: apple\n",
      "Element is present in the list\n"
     ]
    }
   ],
   "source": [
    "# Check if an element exists in a list.\n",
    "list = [\"apple\", \"grapes\",\"mango\",\"banana\"]\n",
    "search = input(\"Enter the element to search: \")\n",
    "if search in list :\n",
    "  print(\"Element is present in the list\")\n",
    "else: \n",
    "  print(\"Element is not present in the list\")"
   ]
  },
  {
   "cell_type": "markdown",
   "id": "e45def06",
   "metadata": {},
   "source": [
    "Find the index of the first occurrence of an element in a list."
   ]
  },
  {
   "cell_type": "code",
   "execution_count": 15,
   "id": "33ff474f",
   "metadata": {},
   "outputs": [
    {
     "name": "stdout",
     "output_type": "stream",
     "text": [
      "List:  [2, 3, 5, 7, 2, 3, 8, 1, 9, 1, 7, 9, 2]\n",
      "Enter the element need to check: 7\n",
      "first occurence of the '7':  3\n"
     ]
    }
   ],
   "source": [
    "ls = [2,3,5,7,2,3,8,1,9,1,7,9,2]\n",
    "print(\"List: \",ls)\n",
    "element = int(input(\"Enter the element need to check: \"))\n",
    "occurence = ls.index(element)\n",
    "print(f\"first occurence of the '{element}': \",occurence)"
   ]
  },
  {
   "cell_type": "code",
   "execution_count": null,
   "id": "25050e5f",
   "metadata": {},
   "outputs": [],
   "source": []
  }
 ],
 "metadata": {
  "kernelspec": {
   "display_name": "Python 3 (ipykernel)",
   "language": "python",
   "name": "python3"
  },
  "language_info": {
   "codemirror_mode": {
    "name": "ipython",
    "version": 3
   },
   "file_extension": ".py",
   "mimetype": "text/x-python",
   "name": "python",
   "nbconvert_exporter": "python",
   "pygments_lexer": "ipython3",
   "version": "3.9.13"
  }
 },
 "nbformat": 4,
 "nbformat_minor": 5
}
