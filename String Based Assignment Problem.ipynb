{
 "cells": [
  {
   "cell_type": "markdown",
   "id": "ccff1bb7",
   "metadata": {},
   "source": [
    "# String Based Assignment Problem"
   ]
  },
  {
   "cell_type": "markdown",
   "id": "bfd9c547",
   "metadata": {},
   "source": [
    "Write a program to reverse a string.\n"
   ]
  },
  {
   "cell_type": "code",
   "execution_count": 1,
   "id": "16b43110",
   "metadata": {},
   "outputs": [
    {
     "data": {
      "text/plain": [
       "'dlroW olleH'"
      ]
     },
     "execution_count": 1,
     "metadata": {},
     "output_type": "execute_result"
    }
   ],
   "source": [
    "s=\"Hello World\"\n",
    "a=s[::-1]\n",
    "a"
   ]
  },
  {
   "cell_type": "markdown",
   "id": "29018eea",
   "metadata": {},
   "source": [
    "Check if a string is a palindrome."
   ]
  },
  {
   "cell_type": "code",
   "execution_count": 2,
   "id": "84295cb7",
   "metadata": {
    "scrolled": true
   },
   "outputs": [
    {
     "name": "stdout",
     "output_type": "stream",
     "text": [
      "Enter a stringi am\n",
      "String is not palidrome\n"
     ]
    }
   ],
   "source": [
    "s=str(input(\"Enter a string\"))\n",
    "a=s[::-1]\n",
    "if a==s:\n",
    "    print(\"string is palidrome\")\n",
    "else:\n",
    "    print(\"String is not palidrome\")"
   ]
  },
  {
   "cell_type": "markdown",
   "id": "e552e089",
   "metadata": {},
   "source": [
    "Convert a string to uppercase.\n"
   ]
  },
  {
   "cell_type": "code",
   "execution_count": 3,
   "id": "a39b360d",
   "metadata": {},
   "outputs": [
    {
     "data": {
      "text/plain": [
       "'HELLO WORLD'"
      ]
     },
     "execution_count": 3,
     "metadata": {},
     "output_type": "execute_result"
    }
   ],
   "source": [
    "s=\"Hello World\"\n",
    "s.upper()"
   ]
  },
  {
   "cell_type": "markdown",
   "id": "a3e0ce99",
   "metadata": {},
   "source": [
    "Convert a string to lowercase.\n"
   ]
  },
  {
   "cell_type": "code",
   "execution_count": 4,
   "id": "2214c0d6",
   "metadata": {},
   "outputs": [
    {
     "data": {
      "text/plain": [
       "'hello world'"
      ]
     },
     "execution_count": 4,
     "metadata": {},
     "output_type": "execute_result"
    }
   ],
   "source": [
    "s=\"Hello World\"\n",
    "s.lower()"
   ]
  },
  {
   "cell_type": "markdown",
   "id": "9968ff5c",
   "metadata": {},
   "source": [
    "Count the number of vowels in a string.\n"
   ]
  },
  {
   "cell_type": "code",
   "execution_count": 5,
   "id": "9ed5828f",
   "metadata": {},
   "outputs": [
    {
     "name": "stdout",
     "output_type": "stream",
     "text": [
      "The number of vowels in \"Hello, World!\" is: 3\n"
     ]
    }
   ],
   "source": [
    "def count_vowels(input_string):\n",
    "    vowels = \"aeiouAEIOU\"\n",
    "    vowel_count = 0\n",
    "\n",
    "    for char in input_string:\n",
    "        if char in vowels:\n",
    "            vowel_count += 1\n",
    "\n",
    "    return vowel_count\n",
    "input_string = \"Hello, World!\"\n",
    "result = count_vowels(input_string)\n",
    "print(f'The number of vowels in \"{input_string}\" is: {result}')\n"
   ]
  },
  {
   "cell_type": "markdown",
   "id": "5b9e4655",
   "metadata": {},
   "source": [
    "Count the number of consonants in a string"
   ]
  },
  {
   "cell_type": "code",
   "execution_count": 6,
   "id": "70c5bdef",
   "metadata": {},
   "outputs": [
    {
     "name": "stdout",
     "output_type": "stream",
     "text": [
      "The number of vowels in \"Hello, World!\" is: 10\n"
     ]
    }
   ],
   "source": [
    "def count_consonants(input_string):\n",
    "    vowels = \"aeiouAEIOU\"\n",
    "    consonant_count = 0\n",
    "\n",
    "    for char in input_string:\n",
    "        if char not in vowels:\n",
    "            consonant_count += 1\n",
    "\n",
    "    return consonant_count\n",
    "input_string = \"Hello, World!\"\n",
    "result = count_consonants(input_string)\n",
    "print(f'The number of vowels in \"{input_string}\" is: {result}')"
   ]
  },
  {
   "cell_type": "markdown",
   "id": "c19572fe",
   "metadata": {},
   "source": [
    "Remove all whitespaces from a string."
   ]
  },
  {
   "cell_type": "code",
   "execution_count": 7,
   "id": "dc082e56",
   "metadata": {},
   "outputs": [
    {
     "name": "stdout",
     "output_type": "stream",
     "text": [
      "The string without whitespaces: \"Hello,World!\"\n"
     ]
    }
   ],
   "source": [
    "def remove_whitespace(input_string):\n",
    "    return input_string.replace(\" \", \"\")\n",
    "\n",
    "input_string = \"Hello, World!\"\n",
    "result = remove_whitespace(input_string)\n",
    "print(f'The string without whitespaces: \"{result}\"')\n"
   ]
  },
  {
   "cell_type": "markdown",
   "id": "bd85c62f",
   "metadata": {},
   "source": [
    "Find the length of a string without using the `len()` function."
   ]
  },
  {
   "cell_type": "code",
   "execution_count": 8,
   "id": "4dde3771",
   "metadata": {},
   "outputs": [
    {
     "name": "stdout",
     "output_type": "stream",
     "text": [
      "The length of the string is: 13\n"
     ]
    }
   ],
   "source": [
    "def calculate_string_length(input_string):\n",
    "    count = 0\n",
    "\n",
    "    for char in input_string:\n",
    "        count += 1\n",
    "\n",
    "    return count\n",
    "\n",
    "input_string = \"Hello, World!\"\n",
    "result = calculate_string_length(input_string)\n",
    "print(f'The length of the string is: {result}')\n"
   ]
  },
  {
   "cell_type": "markdown",
   "id": "7646c165",
   "metadata": {},
   "source": [
    "Check if a string contains a specific word.\n"
   ]
  },
  {
   "cell_type": "code",
   "execution_count": 9,
   "id": "77062ce4",
   "metadata": {},
   "outputs": [
    {
     "name": "stdout",
     "output_type": "stream",
     "text": [
      "The string contains the word \"World\".\n"
     ]
    }
   ],
   "source": [
    "def contains_word(input_string, target_word):\n",
    "    return target_word in input_string\n",
    "\n",
    "input_string = \"Hello, World! This is an example.\"\n",
    "target_word = \"World\"\n",
    "\n",
    "if contains_word(input_string, target_word):\n",
    "    print(f'The string contains the word \"{target_word}\".')\n",
    "else:\n",
    "    print(f'The string does not contain the word \"{target_word}\".')\n"
   ]
  },
  {
   "cell_type": "markdown",
   "id": "0f30abb6",
   "metadata": {},
   "source": [
    "Replace a word in a string with another word.\n"
   ]
  },
  {
   "cell_type": "code",
   "execution_count": 10,
   "id": "2e12707f",
   "metadata": {},
   "outputs": [
    {
     "name": "stdout",
     "output_type": "stream",
     "text": [
      "The modified string is: \"Hello, Universe! This is an example.\"\n"
     ]
    }
   ],
   "source": [
    "def replace_word(input_string, old_word, new_word):\n",
    "    return input_string.replace(old_word, new_word)\n",
    "\n",
    "input_string = \"Hello, World! This is an example.\"\n",
    "old_word = \"World\"\n",
    "new_word = \"Universe\"\n",
    "\n",
    "result = replace_word(input_string, old_word, new_word)\n",
    "print(f'The modified string is: \"{result}\"')\n"
   ]
  },
  {
   "cell_type": "markdown",
   "id": "f960a774",
   "metadata": {},
   "source": [
    "Count the occurrences of a word in a string.\n"
   ]
  },
  {
   "cell_type": "code",
   "execution_count": 11,
   "id": "d7cfd797",
   "metadata": {},
   "outputs": [
    {
     "name": "stdout",
     "output_type": "stream",
     "text": [
      "The word \"Hello\" appears 2 times in the string.\n"
     ]
    }
   ],
   "source": [
    "def count_occurrences(input_string, target_word):\n",
    "    return input_string.lower().count(target_word.lower())\n",
    "\n",
    "input_string = \"Hello, World! This is an example. Hello, World again.\"\n",
    "target_word = \"Hello\"\n",
    "\n",
    "result = count_occurrences(input_string, target_word)\n",
    "print(f'The word \"{target_word}\" appears {result} times in the string.')\n"
   ]
  },
  {
   "cell_type": "markdown",
   "id": "070179e6",
   "metadata": {},
   "source": [
    "Find the first occurrence of a word in a string.\n"
   ]
  },
  {
   "cell_type": "code",
   "execution_count": 12,
   "id": "0512fce0",
   "metadata": {},
   "outputs": [
    {
     "name": "stdout",
     "output_type": "stream",
     "text": [
      "The first occurrence of \"Hello\" starts at index 0.\n"
     ]
    }
   ],
   "source": [
    "def find_first_occurrence(input_string, target_word):\n",
    "    index = input_string.lower().find(target_word.lower())\n",
    "    return index\n",
    "\n",
    "input_string = \"Hello, World! This is an example. Hello, World again.\"\n",
    "target_word = \"Hello\"\n",
    "\n",
    "result = find_first_occurrence(input_string, target_word)\n",
    "\n",
    "if result != -1:\n",
    "    print(f'The first occurrence of \"{target_word}\" starts at index {result}.')\n",
    "else:\n",
    "    print(f'The word \"{target_word}\" is not found in the string.')\n"
   ]
  },
  {
   "cell_type": "markdown",
   "id": "fe0f7cf7",
   "metadata": {},
   "source": [
    "Find the last occurrence of a word in a string."
   ]
  },
  {
   "cell_type": "code",
   "execution_count": 13,
   "id": "2556f4b9",
   "metadata": {},
   "outputs": [
    {
     "name": "stdout",
     "output_type": "stream",
     "text": [
      "The last occurrence of \"Hello\" starts at index 34.\n"
     ]
    }
   ],
   "source": [
    "def find_last_occurrence(input_string, target_word):\n",
    "    index = input_string.lower().rfind(target_word.lower())\n",
    "    return index\n",
    "\n",
    "input_string = \"Hello, World! This is an example. Hello, World again.\"\n",
    "target_word = \"Hello\"\n",
    "\n",
    "result = find_last_occurrence(input_string, target_word)\n",
    "\n",
    "if result != -1:\n",
    "    print(f'The last occurrence of \"{target_word}\" starts at index {result}.')\n",
    "else:\n",
    "    print(f'The word \"{target_word}\" is not found in the string.')\n"
   ]
  },
  {
   "cell_type": "markdown",
   "id": "a7cf1a8c",
   "metadata": {},
   "source": [
    "Split a string into a list of words.\n"
   ]
  },
  {
   "cell_type": "code",
   "execution_count": 14,
   "id": "ff787f9f",
   "metadata": {},
   "outputs": [
    {
     "name": "stdout",
     "output_type": "stream",
     "text": [
      "The string split into words: ['Hello,', 'World!', 'This', 'is', 'an', 'example.']\n"
     ]
    }
   ],
   "source": [
    "def split_into_words(input_string):\n",
    "    return input_string.split()\n",
    "\n",
    "input_string = \"Hello, World! This is an example.\"\n",
    "\n",
    "word_list = split_into_words(input_string)\n",
    "print(f'The string split into words: {word_list}')\n"
   ]
  },
  {
   "cell_type": "markdown",
   "id": "1d63f3ef",
   "metadata": {},
   "source": [
    "Join a list of words into a string.\n"
   ]
  },
  {
   "cell_type": "code",
   "execution_count": 15,
   "id": "d4498422",
   "metadata": {},
   "outputs": [
    {
     "name": "stdout",
     "output_type": "stream",
     "text": [
      "The list of words joined into a string: \"Hello, World! This is an example.\"\n"
     ]
    }
   ],
   "source": [
    "def join_words(word_list):\n",
    "    return ' '.join(word_list)\n",
    "\n",
    "words = [\"Hello,\", \"World!\", \"This\", \"is\", \"an\", \"example.\"]\n",
    "\n",
    "result_string = join_words(words)\n",
    "print(f'The list of words joined into a string: \"{result_string}\"')\n"
   ]
  },
  {
   "cell_type": "markdown",
   "id": "9da6d456",
   "metadata": {},
   "source": [
    "Check if a string starts with a specific word or phrase.\n"
   ]
  },
  {
   "cell_type": "code",
   "execution_count": 16,
   "id": "d0f2becd",
   "metadata": {},
   "outputs": [
    {
     "name": "stdout",
     "output_type": "stream",
     "text": [
      "The list of words joined into a string: \"Hello World This is an example\"\n"
     ]
    }
   ],
   "source": [
    "def join_words(word_list):\n",
    "    return ' '.join(word_list)\n",
    "\n",
    "words = [\"Hello\", \"World\", \"This\", \"is\", \"an\", \"example\"]\n",
    "\n",
    "result_string = join_words(words)\n",
    "print(f'The list of words joined into a string: \"{result_string}\"')\n"
   ]
  },
  {
   "cell_type": "markdown",
   "id": "149823d6",
   "metadata": {},
   "source": [
    "Check if a string ends with a specific word or phrase."
   ]
  },
  {
   "cell_type": "code",
   "execution_count": 17,
   "id": "1c993b19",
   "metadata": {},
   "outputs": [
    {
     "name": "stdout",
     "output_type": "stream",
     "text": [
      "The string ends with \"example.\".\n"
     ]
    }
   ],
   "source": [
    "def ends_with(input_string, suffix):\n",
    "    return input_string.endswith(suffix)\n",
    "\n",
    "input_string = \"Hello, World! This is an example.\"\n",
    "\n",
    "suffix_to_check = \"example.\"\n",
    "if ends_with(input_string, suffix_to_check):\n",
    "    print(f'The string ends with \"{suffix_to_check}\".')\n",
    "else:\n",
    "    print(f'The string does not end with \"{suffix_to_check}\".')\n"
   ]
  },
  {
   "cell_type": "markdown",
   "id": "8b245076",
   "metadata": {},
   "source": [
    "Convert a string to title case (e.g., \"hello world\" to \"Hello World\")"
   ]
  },
  {
   "cell_type": "code",
   "execution_count": 18,
   "id": "09a27461",
   "metadata": {},
   "outputs": [
    {
     "data": {
      "text/plain": [
       "'Hello World'"
      ]
     },
     "execution_count": 18,
     "metadata": {},
     "output_type": "execute_result"
    }
   ],
   "source": [
    "input=\"hello worlD\"\n",
    "input.title()"
   ]
  },
  {
   "cell_type": "markdown",
   "id": "f54aa541",
   "metadata": {},
   "source": [
    "Find the longest word in a string."
   ]
  },
  {
   "cell_type": "code",
   "execution_count": 19,
   "id": "42500304",
   "metadata": {},
   "outputs": [
    {
     "name": "stdout",
     "output_type": "stream",
     "text": [
      "The longest word in the string is: \"sentence\"\n"
     ]
    }
   ],
   "source": [
    "def find_longest_word(input_string):\n",
    "    words = input_string.split()\n",
    "    longest_word = \"\"\n",
    "\n",
    "    for word in words:\n",
    "        if len(word) > len(longest_word):\n",
    "            longest_word = word\n",
    "\n",
    "    return longest_word\n",
    "\n",
    "input_string = \"This is an example sentence with some long words.\"\n",
    "\n",
    "result = find_longest_word(input_string)\n",
    "print(f'The longest word in the string is: \"{result}\"')\n"
   ]
  },
  {
   "cell_type": "markdown",
   "id": "baafbd58",
   "metadata": {},
   "source": [
    "Find the shortest word in a string."
   ]
  },
  {
   "cell_type": "code",
   "execution_count": 20,
   "id": "7e669f18",
   "metadata": {},
   "outputs": [
    {
     "name": "stdout",
     "output_type": "stream",
     "text": [
      "The shortest word in the string is: \"is\"\n"
     ]
    }
   ],
   "source": [
    "def find_shortest_word(input_string):\n",
    "    words = input_string.split()\n",
    "    shortest_word = words[0] if words else \"\"\n",
    "\n",
    "    for word in words:\n",
    "        if len(word) < len(shortest_word):\n",
    "            shortest_word = word\n",
    "\n",
    "    return shortest_word\n",
    "\n",
    "input_string = \"This is an example sentence with some short words.\"\n",
    "\n",
    "result = find_shortest_word(input_string)\n",
    "print(f'The shortest word in the string is: \"{result}\"')\n"
   ]
  },
  {
   "cell_type": "markdown",
   "id": "5d3dbf4d",
   "metadata": {},
   "source": [
    "Reverse the order of words in a string.\n"
   ]
  },
  {
   "cell_type": "code",
   "execution_count": 21,
   "id": "96e849e9",
   "metadata": {},
   "outputs": [
    {
     "name": "stdout",
     "output_type": "stream",
     "text": [
      "The string with reversed words: \"sentence. example an is This\"\n"
     ]
    }
   ],
   "source": [
    "def reverse_words(input_string):\n",
    "    words = input_string.split()\n",
    "    reversed_words = ' '.join(reversed(words))\n",
    "    return reversed_words\n",
    "\n",
    "input_string = \"This is an example sentence.\"\n",
    "\n",
    "result = reverse_words(input_string)\n",
    "print(f'The string with reversed words: \"{result}\"')\n"
   ]
  },
  {
   "cell_type": "markdown",
   "id": "ac4f911d",
   "metadata": {},
   "source": [
    "Check if a string is alphanumeric.\n"
   ]
  },
  {
   "cell_type": "code",
   "execution_count": 22,
   "id": "869c18ba",
   "metadata": {},
   "outputs": [
    {
     "name": "stdout",
     "output_type": "stream",
     "text": [
      "Is \"Hello123\" alphanumeric? True\n",
      "Is \"Hello 123\" alphanumeric? False\n"
     ]
    }
   ],
   "source": [
    "def is_alphanumeric(input_string):\n",
    "    return input_string.isalnum()\n",
    "\n",
    "string1 = \"Hello123\"\n",
    "string2 = \"Hello 123\"\n",
    "\n",
    "print(f'Is \"{string1}\" alphanumeric? {is_alphanumeric(string1)}')\n",
    "print(f'Is \"{string2}\" alphanumeric? {is_alphanumeric(string2)}')\n"
   ]
  },
  {
   "cell_type": "markdown",
   "id": "67f57698",
   "metadata": {},
   "source": [
    "Extract all digits from a string.\n"
   ]
  },
  {
   "cell_type": "code",
   "execution_count": 23,
   "id": "9a3001be",
   "metadata": {},
   "outputs": [
    {
     "name": "stdout",
     "output_type": "stream",
     "text": [
      "The extracted digits from the string are: \"123456\"\n"
     ]
    }
   ],
   "source": [
    "def extract_digits(input_string):\n",
    "    return ''.join(char for char in input_string if char.isdigit())\n",
    "\n",
    "input_string = \"Hello123World456\"\n",
    "\n",
    "result = extract_digits(input_string)\n",
    "print(f'The extracted digits from the string are: \"{result}\"')\n"
   ]
  },
  {
   "cell_type": "markdown",
   "id": "04075d16",
   "metadata": {},
   "source": [
    "Extract all alphabets from a string.\n"
   ]
  },
  {
   "cell_type": "code",
   "execution_count": 24,
   "id": "0e90f4ae",
   "metadata": {},
   "outputs": [
    {
     "name": "stdout",
     "output_type": "stream",
     "text": [
      "The extracted digits from the string are: \"123456\"\n"
     ]
    }
   ],
   "source": [
    "def extract_digits(input_string):\n",
    "    return ''.join(char for char in input_string if char.isdigit())\n",
    "\n",
    "input_string = \"Hello123World456\"\n",
    "\n",
    "result = extract_digits(input_string)\n",
    "print(f'The extracted digits from the string are: \"{result}\"')\n"
   ]
  },
  {
   "cell_type": "code",
   "execution_count": null,
   "id": "92363d43",
   "metadata": {},
   "outputs": [],
   "source": []
  }
 ],
 "metadata": {
  "kernelspec": {
   "display_name": "Python 3 (ipykernel)",
   "language": "python",
   "name": "python3"
  },
  "language_info": {
   "codemirror_mode": {
    "name": "ipython",
    "version": 3
   },
   "file_extension": ".py",
   "mimetype": "text/x-python",
   "name": "python",
   "nbconvert_exporter": "python",
   "pygments_lexer": "ipython3",
   "version": "3.9.13"
  }
 },
 "nbformat": 4,
 "nbformat_minor": 5
}
