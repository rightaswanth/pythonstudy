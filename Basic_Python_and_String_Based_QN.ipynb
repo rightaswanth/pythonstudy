{
 "cells": [
  {
   "cell_type": "markdown",
   "id": "123abe9e",
   "metadata": {},
   "source": [
    "# Python Basics Variable"
   ]
  },
  {
   "cell_type": "markdown",
   "id": "f73a0179",
   "metadata": {},
   "source": [
    "Declare two variables, `x` and `y`, and assign them integer values. Swap the\n",
    "\n",
    "values of these variables without using any temporary variable."
   ]
  },
  {
   "cell_type": "code",
   "execution_count": 4,
   "id": "b2ee3d08",
   "metadata": {},
   "outputs": [
    {
     "name": "stdout",
     "output_type": "stream",
     "text": [
      "5\n",
      "10\n"
     ]
    }
   ],
   "source": [
    "a=10\n",
    "b=5\n",
    "a=a+b\n",
    "b=a-b\n",
    "a=a-b\n",
    "print(a)\n",
    "print(b)"
   ]
  },
  {
   "cell_type": "markdown",
   "id": "fa5b4560",
   "metadata": {},
   "source": [
    "Create a program that calculates the area of a rectangle. Take the length and\n",
    "width as inputs from the user and store them in variables. Calculate and\n",
    "display the area."
   ]
  },
  {
   "cell_type": "code",
   "execution_count": 6,
   "id": "f1b7787a",
   "metadata": {},
   "outputs": [
    {
     "name": "stdout",
     "output_type": "stream",
     "text": [
      "Enter the width of the rectangle:23\n",
      "Enter the Height of the rectangle:21\n",
      "The area of the rectangle is 483\n"
     ]
    }
   ],
   "source": [
    "a=int(input(\"Enter the width of the rectangle:\"))\n",
    "b=int(input(\"Enter the Height of the rectangle:\"))\n",
    "area=a*b\n",
    "print(\"The area of the rectangle is\",area)"
   ]
  },
  {
   "cell_type": "markdown",
   "id": "611a9526",
   "metadata": {},
   "source": [
    "Write a Python program that converts temperatures from Celsius to\n",
    "Fahrenheit. Take the temperature in Celsius as input, store it in a variable,\n",
    "convert it to Fahrenheit, and display the result.\n"
   ]
  },
  {
   "cell_type": "code",
   "execution_count": 7,
   "id": "fd1d3523",
   "metadata": {},
   "outputs": [
    {
     "name": "stdout",
     "output_type": "stream",
     "text": [
      "Enter the celcius temperature:23\n",
      "The tempreture in Faranheat is 55\n"
     ]
    }
   ],
   "source": [
    "c=int(input(\"Enter the celcius temperature:\"))\n",
    "f=9//5*c+32\n",
    "print(\"The tempreture in Faranheat is\",f)"
   ]
  },
  {
   "cell_type": "markdown",
   "id": "93d81aa5",
   "metadata": {},
   "source": [
    "# String Based Questions\n"
   ]
  },
  {
   "cell_type": "markdown",
   "id": "6c481f31",
   "metadata": {},
   "source": [
    "Write a Python program that takes a string as input and prints the length of\n",
    "the string.\n"
   ]
  },
  {
   "cell_type": "code",
   "execution_count": 9,
   "id": "e290603f",
   "metadata": {},
   "outputs": [
    {
     "name": "stdout",
     "output_type": "stream",
     "text": [
      "Enter a string:hello\n"
     ]
    },
    {
     "data": {
      "text/plain": [
       "5"
      ]
     },
     "execution_count": 9,
     "metadata": {},
     "output_type": "execute_result"
    }
   ],
   "source": [
    "s=str(input(\"Enter a string:\"))\n",
    "len(s)"
   ]
  },
  {
   "cell_type": "markdown",
   "id": "21ac51ec",
   "metadata": {},
   "source": [
    "Create a program that takes a sentence from the user and counts the number\n",
    "of vowels (a, e, i, o, u) in the string.\n"
   ]
  },
  {
   "cell_type": "code",
   "execution_count": 10,
   "id": "27379f75",
   "metadata": {},
   "outputs": [
    {
     "name": "stdout",
     "output_type": "stream",
     "text": [
      "Enter the sentence :hello i am going . When we see\n",
      "No of vowels in sentence : 10\n"
     ]
    }
   ],
   "source": [
    "def count_vowels(v):\n",
    "    count=0\n",
    "    vowels=\"aeiouAEIOU\"\n",
    "    sentence=v\n",
    "    for i in sentence:\n",
    "        if i in vowels:\n",
    "            count+=1\n",
    "    return count\n",
    "\n",
    "v=str(input(\"Enter the sentence :\"))\n",
    "result=count_vowels(v)\n",
    "print(\"No of vowels in sentence :\",result)"
   ]
  },
  {
   "cell_type": "markdown",
   "id": "53f80908",
   "metadata": {},
   "source": [
    "Given a string, reverse the order of characters using string slicing and print\n",
    "the reversed string.\n"
   ]
  },
  {
   "cell_type": "code",
   "execution_count": 12,
   "id": "47c457e3",
   "metadata": {},
   "outputs": [
    {
     "name": "stdout",
     "output_type": "stream",
     "text": [
      "Enter a string :hello\n",
      "olleh\n"
     ]
    }
   ],
   "source": [
    "s=str(input(\"Enter a string :\"))\n",
    "revsed_s=s[::-1]\n",
    "print(revsed_s)"
   ]
  },
  {
   "cell_type": "markdown",
   "id": "e3c1bec6",
   "metadata": {},
   "source": [
    "Write a program that takes a string as input and checks if it is a palindrome\n",
    "(reads the same forwards and backwards).\n"
   ]
  },
  {
   "cell_type": "code",
   "execution_count": 22,
   "id": "55ce2b7a",
   "metadata": {},
   "outputs": [
    {
     "name": "stdout",
     "output_type": "stream",
     "text": [
      "Enter a string :hello\n",
      "The string is not palindrome\n"
     ]
    }
   ],
   "source": [
    "p=str(input(\"Enter a string :\"))\n",
    "k=p[::-1]\n",
    "if k==p:\n",
    "    print(\"The string is palindrome\")\n",
    "else:\n",
    "    print(\"The string is not palindrome\")"
   ]
  },
  {
   "cell_type": "code",
   "execution_count": 29,
   "id": "09ae658a",
   "metadata": {},
   "outputs": [
    {
     "data": {
      "text/plain": [
       "'Hello world'"
      ]
     },
     "execution_count": 29,
     "metadata": {},
     "output_type": "execute_result"
    }
   ],
   "source": [
    "s=\"  Hello world  \"\n",
    "s.strip()\n"
   ]
  },
  {
   "cell_type": "markdown",
   "id": "154c985a",
   "metadata": {},
   "source": [
    " Write a program to reverse a string.\n"
   ]
  },
  {
   "cell_type": "code",
   "execution_count": 30,
   "id": "464e1c2e",
   "metadata": {},
   "outputs": [
    {
     "data": {
      "text/plain": [
       "'dlrow olleH'"
      ]
     },
     "execution_count": 30,
     "metadata": {},
     "output_type": "execute_result"
    }
   ],
   "source": [
    "string=\"Hello world\"\n",
    "string[::-1]"
   ]
  },
  {
   "cell_type": "markdown",
   "id": "b2213597",
   "metadata": {},
   "source": [
    " Check if a string is a palindrome.\n"
   ]
  },
  {
   "cell_type": "code",
   "execution_count": 31,
   "id": "787e7ada",
   "metadata": {},
   "outputs": [
    {
     "name": "stdout",
     "output_type": "stream",
     "text": [
      "Enter a string :i am\n",
      "The string is not palindrome\n"
     ]
    }
   ],
   "source": [
    "p=str(input(\"Enter a string :\"))\n",
    "k=p[::-1]\n",
    "if k==p:\n",
    "    print(\"The string is palindrome\")\n",
    "else:\n",
    "    print(\"The string is not palindrome\")"
   ]
  },
  {
   "cell_type": "markdown",
   "id": "233631af",
   "metadata": {},
   "source": [
    "Convert a string to uppercase.\n"
   ]
  },
  {
   "cell_type": "code",
   "execution_count": 33,
   "id": "15bdbfed",
   "metadata": {},
   "outputs": [
    {
     "data": {
      "text/plain": [
       "'HELLO WORLD'"
      ]
     },
     "execution_count": 33,
     "metadata": {},
     "output_type": "execute_result"
    }
   ],
   "source": [
    "s=\"Hello world\"\n",
    "s.upper()"
   ]
  },
  {
   "cell_type": "markdown",
   "id": "f78febf6",
   "metadata": {},
   "source": [
    "Convert a string to lowercase.\n"
   ]
  },
  {
   "cell_type": "code",
   "execution_count": 34,
   "id": "af3e45c3",
   "metadata": {},
   "outputs": [
    {
     "data": {
      "text/plain": [
       "'india'"
      ]
     },
     "execution_count": 34,
     "metadata": {},
     "output_type": "execute_result"
    }
   ],
   "source": [
    "s=\"INDIA\"\n",
    "s.lower()"
   ]
  },
  {
   "cell_type": "markdown",
   "id": "e0dccc90",
   "metadata": {},
   "source": [
    " Count the number of vowels in a string.\n"
   ]
  },
  {
   "cell_type": "code",
   "execution_count": 38,
   "id": "6d886ab4",
   "metadata": {},
   "outputs": [
    {
     "name": "stdout",
     "output_type": "stream",
     "text": [
      "Enter the sentence :hello\n",
      "No of vowels in sentence : 2\n"
     ]
    }
   ],
   "source": [
    "def count_vowels(v):\n",
    "    count=0\n",
    "    vowels=\"aeiouAEIOU\"\n",
    "    sentence=v\n",
    "    for i in sentence:\n",
    "        if i in vowels:\n",
    "            count+=1\n",
    "    return count\n",
    "\n",
    "v=str(input(\"Enter the sentence :\"))\n",
    "result=count_vowels(v)\n",
    "print(\"No of vowels in sentence :\",result)"
   ]
  },
  {
   "cell_type": "markdown",
   "id": "43c8aac3",
   "metadata": {},
   "source": [
    "Count the number of consonants in a string.\n"
   ]
  },
  {
   "cell_type": "code",
   "execution_count": 39,
   "id": "3fe7d1a1",
   "metadata": {},
   "outputs": [
    {
     "name": "stdout",
     "output_type": "stream",
     "text": [
      "Enter the sentence :i am\n",
      "No of vowels in sentence : 2\n"
     ]
    }
   ],
   "source": [
    "def count_vowels(v):\n",
    "    count=0\n",
    "    vowels=\"aeiouAEIOU\"\n",
    "    sentence=v\n",
    "    for i in sentence:\n",
    "        if i not in vowels:\n",
    "            count+=1\n",
    "    return count\n",
    "\n",
    "v=str(input(\"Enter the sentence :\"))\n",
    "result=count_vowels(v)\n",
    "print(\"No of vowels in sentence :\",result)"
   ]
  },
  {
   "cell_type": "markdown",
   "id": "3e936a98",
   "metadata": {},
   "source": [
    " Check if a string contains a specific word.\n"
   ]
  },
  {
   "cell_type": "code",
   "execution_count": 40,
   "id": "ea024af2",
   "metadata": {},
   "outputs": [
    {
     "name": "stdout",
     "output_type": "stream",
     "text": [
      "The answer is True\n"
     ]
    }
   ],
   "source": [
    "def word_sentence(sentence,word):\n",
    "    return word in sentence\n",
    "a=\"This is a example of data\"\n",
    "s=\"example\"\n",
    "result=word_sentence(a,s)\n",
    "print(\"The answer is\",result)"
   ]
  },
  {
   "cell_type": "code",
   "execution_count": 42,
   "id": "41515861",
   "metadata": {},
   "outputs": [
    {
     "name": "stdout",
     "output_type": "stream",
     "text": [
      "Enter the sentence :hello\n",
      "No of vowels in sentence : h ll \n"
     ]
    }
   ],
   "source": [
    "def count_vowels(v):\n",
    "    count=0\n",
    "    vowels=\"aeiouAEIOU\"\n",
    "    sentence=v\n",
    "    for i in sentence:\n",
    "        if i in vowels:\n",
    "            sentence=sentence.replace(i,\" \")\n",
    "    return sentence\n",
    "\n",
    "v=str(input(\"Enter the sentence :\"))\n",
    "result=count_vowels(v)\n",
    "print(\"No of vowels in sentence :\",result)"
   ]
  },
  {
   "cell_type": "code",
   "execution_count": null,
   "id": "8bdc7a08",
   "metadata": {},
   "outputs": [],
   "source": []
  }
 ],
 "metadata": {
  "kernelspec": {
   "display_name": "Python 3 (ipykernel)",
   "language": "python",
   "name": "python3"
  },
  "language_info": {
   "codemirror_mode": {
    "name": "ipython",
    "version": 3
   },
   "file_extension": ".py",
   "mimetype": "text/x-python",
   "name": "python",
   "nbconvert_exporter": "python",
   "pygments_lexer": "ipython3",
   "version": "3.9.13"
  }
 },
 "nbformat": 4,
 "nbformat_minor": 5
}
